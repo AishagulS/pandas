{
 "cells": [
  {
   "cell_type": "markdown",
   "metadata": {},
   "source": [
    "# Exercise 1: Your first DataFrame"
   ]
  },
  {
   "cell_type": "code",
   "execution_count": 1,
   "metadata": {},
   "outputs": [
    {
     "name": "stdout",
     "output_type": "stream",
     "text": [
      "Index(['color', 'list', 'number'], dtype='object')\n",
      "color       <class 'str'>\n",
      "list       <class 'list'>\n",
      "number    <class 'float'>\n",
      "Name: 1, dtype: object\n"
     ]
    }
   ],
   "source": [
    "import numpy as np\n",
    "import pandas as pd\n",
    "\n",
    "data = np.array([\n",
    "    [1, 'Blue', [1, 2], 1.1],\n",
    "    [3, 'Red', [3, 4],\t2.2],\n",
    "    [5, 'Pink', [5, 6], 3.3],\n",
    "    [7, 'Grey', [7, 8],\t4.4],\n",
    "    [9, 'Black', [9, 10],\t5.5]\n",
    "], dtype=object)\n",
    "\n",
    "df = pd.DataFrame(data, columns=[' ', 'color', 'list', 'number'])\n",
    "\n",
    "df = df.set_index(' ')\n",
    "print(df.columns)\n",
    "\n",
    "df.dtypes\n",
    "\n",
    "print(df.iloc[0].apply(type))\n",
    "\n",
    "# print(type(df.iloc[0, 0]))\n",
    "# print(type(df.iloc[0,1]))\n",
    "# print(type(df.iloc[0,2]))"
   ]
  },
  {
   "cell_type": "markdown",
   "metadata": {},
   "source": [
    "# Exercise 2: Electric power consumption"
   ]
  },
  {
   "cell_type": "code",
   "execution_count": 2,
   "metadata": {},
   "outputs": [
    {
     "name": "stderr",
     "output_type": "stream",
     "text": [
      "/tmp/ipykernel_157263/795484459.py:1: DtypeWarning: Columns (2,3,4,5,6,7) have mixed types. Specify dtype option on import or set low_memory=False.\n",
      "  df = pd.read_csv('household_power_consumption.txt', delimiter=';')\n",
      "/tmp/ipykernel_157263/795484459.py:11: UserWarning: Parsing dates in %d/%m/%Y format when dayfirst=False (the default) was specified. Pass `dayfirst=True` or specify a format to silence this warning.\n",
      "  df.index = pd.to_datetime(df.index, errors='coerce')\n"
     ]
    },
    {
     "data": {
      "text/plain": [
       "DatetimeIndex(['2006-12-16', '2006-12-16', '2006-12-16', '2006-12-16',\n",
       "               '2006-12-16', '2006-12-16', '2006-12-16', '2006-12-16',\n",
       "               '2006-12-16', '2006-12-16',\n",
       "               ...\n",
       "               '2010-11-26', '2010-11-26', '2010-11-26', '2010-11-26',\n",
       "               '2010-11-26', '2010-11-26', '2010-11-26', '2010-11-26',\n",
       "               '2010-11-26', '2010-11-26'],\n",
       "              dtype='datetime64[ns]', name='Date', length=2075259, freq=None)"
      ]
     },
     "execution_count": 2,
     "metadata": {},
     "output_type": "execute_result"
    }
   ],
   "source": [
    "df = pd.read_csv('household_power_consumption.txt', delimiter=';')\n",
    "\n",
    "#Delete the columns Time, Sub_metering_2 and Sub_metering_3\n",
    "df.drop(columns=['Time', 'Sub_metering_2', 'Sub_metering_3'], inplace=True)\n",
    "\n",
    "#Set Date as index\n",
    "df.set_index('Date', inplace=True)\n",
    "\n",
    "#Create a function that takes as input the DataFrame with the data set and returns a DataFrame with updated types:\n",
    "def update_types(df):\n",
    "    df.index = pd.to_datetime(df.index, errors='coerce')\n",
    "    for column in df:\n",
    "        df[column] = pd.to_numeric(df[column], errors='coerce')\n",
    "    return df\n",
    "df = update_types(df)\n",
    "df.index"
   ]
  },
  {
   "cell_type": "code",
   "execution_count": 3,
   "metadata": {},
   "outputs": [
    {
     "name": "stdout",
     "output_type": "stream",
     "text": [
      "Global_active_power        0.254\n",
      "Global_reactive_power      0.000\n",
      "Voltage                  238.100\n",
      "Global_intensity           1.200\n",
      "Sub_metering_1             0.060\n",
      "Name: 2007-02-16 00:00:00, dtype: float64\n"
     ]
    },
    {
     "data": {
      "text/plain": [
       "Date\n",
       "2006-12-16    3.053475\n",
       "2006-12-17    2.354486\n",
       "2006-12-18    1.530435\n",
       "2006-12-19    1.157079\n",
       "2006-12-20    1.545658\n",
       "                ...   \n",
       "2010-11-22    1.417733\n",
       "2010-11-23    1.095511\n",
       "2010-11-24    1.247394\n",
       "2010-11-25    0.993864\n",
       "2010-11-26    1.178230\n",
       "Name: Global_active_power, Length: 1433, dtype: float64"
      ]
     },
     "execution_count": 3,
     "metadata": {},
     "output_type": "execute_result"
    }
   ],
   "source": [
    "#Use describe to have an overview on the data set\n",
    "df.describe()\n",
    "\n",
    "#Delete the rows with missing values\n",
    "df.dropna(inplace=True)\n",
    "\n",
    "#Modify Sub_metering_1 by adding 1 to it and multiplying the total by 0.06. If x is a row the output is: (x+1)*0.06\n",
    "df['Sub_metering_1'] = (df['Sub_metering_1']+1)*0.06\n",
    "\n",
    "#Select all the rows for which the Date is greater or equal than 2008-12-27 and Voltage is greater or equal than 242\n",
    "date_voltage = df[(df.index >= '2008-12-27') & (df['Voltage'] >= 242)]\n",
    "\n",
    "#Print the 88888th row.\n",
    "print(df.iloc[88887])\n",
    "\n",
    "#What is the date for which the Global_active_power is maximal ?\n",
    "\n",
    "max_power_date = df['Global_active_power'].idxmax()\n",
    "# max_power_date = df['Global_activate_power'].max().df.index\n",
    "#Sort the first three columns by descending order of Global_active_power and ascending order of Voltage.\n",
    "df.sort_values(by=['Global_active_power', 'Voltage'], ascending=[False, True], inplace=True)\n",
    "\n",
    "#Compute the daily average of Global_active_power.\n",
    "daily_average = df.groupby(df.index)['Global_active_power'].mean()\n",
    "daily_average\n"
   ]
  },
  {
   "cell_type": "markdown",
   "metadata": {},
   "source": [
    "# Exercise 3: E-commerce purchases"
   ]
  },
  {
   "cell_type": "code",
   "execution_count": 4,
   "metadata": {},
   "outputs": [
    {
     "name": "stdout",
     "output_type": "stream",
     "text": [
      "<class 'pandas.core.frame.DataFrame'>\n",
      "RangeIndex: 10000 entries, 0 to 9999\n",
      "Data columns (total 14 columns):\n",
      " #   Column            Non-Null Count  Dtype  \n",
      "---  ------            --------------  -----  \n",
      " 0   Address           10000 non-null  object \n",
      " 1   Lot               10000 non-null  object \n",
      " 2   AM or PM          10000 non-null  object \n",
      " 3   Browser Info      10000 non-null  object \n",
      " 4   Company           10000 non-null  object \n",
      " 5   Credit Card       10000 non-null  int64  \n",
      " 6   CC Exp Date       10000 non-null  object \n",
      " 7   CC Security Code  10000 non-null  int64  \n",
      " 8   CC Provider       10000 non-null  object \n",
      " 9   Email             10000 non-null  object \n",
      " 10  Job               10000 non-null  object \n",
      " 11  IP Address        10000 non-null  object \n",
      " 12  Language          10000 non-null  object \n",
      " 13  Purchase Price    10000 non-null  float64\n",
      "dtypes: float64(1), int64(2), object(11)\n",
      "memory usage: 1.1+ MB\n",
      "Average Purchase Price: 50.347302\n",
      "Highest Purchase Price 99.99\n",
      "Lowest Purchase Price 0.0\n",
      "The number of English people: 1098\n",
      "The number of lawyers: 30\n"
     ]
    }
   ],
   "source": [
    "# How many rows and columns are there?\n",
    "import numpy as np\n",
    "import pandas as pd\n",
    "\n",
    "df = pd.read_csv('Ecommerce_purchases.txt')\n",
    "\n",
    "# How many rows and columns are there?\n",
    "df.info()\n",
    "\n",
    "# What is the average Purchase Price?\n",
    "print('Average Purchase Price:', df['Purchase Price'].mean())\n",
    "# What were the highest and lowest purchase prices?\n",
    "print('Highest Purchase Price', df['Purchase Price'].max())\n",
    "print('Lowest Purchase Price', df['Purchase Price'].min())\n",
    "\n",
    "# How many people have English 'en' as their Language of choice on the website?\n",
    "en_number = df[df['Language'] == 'en']['Language'].count()\n",
    "print('The number of English people:', en_number)\n",
    "\n",
    "# How many people have the job title of \"Lawyer\" ?\n",
    "lawyers = df[df['Job'] == 'Lawyer']['Job'].count()\n",
    "print('The number of lawyers:', lawyers)\n"
   ]
  },
  {
   "cell_type": "code",
   "execution_count": 5,
   "metadata": {},
   "outputs": [
    {
     "name": "stdout",
     "output_type": "stream",
     "text": [
      "The AM purchases: 4932 \n",
      "The PM purchases: 5068\n",
      "The purchase price of the Lot \"90 WT\": [75.1]\n",
      "The email of the person with a Credit Card Number \"4926535242672853\" is ['bondellen@williams-garza.com']\n",
      "The number of people having American Express as their CC Provider and made a purchase above $95 is 39\n",
      "There are 0 people having CC expiry date in 2025\n",
      "The 5 most popular email provders in the data: ['hotmail.com' 'yahoo.com' 'gmail.com' 'smith.com' 'williams.com']\n"
     ]
    }
   ],
   "source": [
    "# How many people made the purchase during the AM and how many people made the purchase during PM ?\n",
    "am = 0\n",
    "pm = 0\n",
    "for row in df['AM or PM']:\n",
    "    if row == 'AM':\n",
    "        am += 1\n",
    "    else:\n",
    "        pm += 1\n",
    "print('The AM purchases: %s \\nThe PM purchases: %s' % (am, pm))\n",
    "\n",
    "# What are the 5 most common Job Titles?\n",
    "top_5_jobs = df.value_counts(df['Job'])\n",
    "top_5_jobs.head(5)\n",
    "\n",
    "# Someone made a purchase that came from Lot: \"90 WT\" , what was the Purchase Price for this transaction?\n",
    "price_lot_90WT = df[df['Lot'] == '90 WT']['Purchase Price'].values\n",
    "print('The purchase price of the Lot \"90 WT\":', price_lot_90WT)\n",
    "\n",
    "# What is the email of the person with the following Credit Card Number: 4926535242672853\n",
    "email_by_card = df[df['Credit Card'] == 4926535242672853]['Email'].values\n",
    "print('The email of the person with a Credit Card Number \"4926535242672853\" is', email_by_card)\n",
    "\n",
    "# How many people have American Express as their Credit Card Provider and made a purchase above $95?\n",
    "american_express = df[(df['Purchase Price'] > 95) & (df['CC Provider'] == 'American Express')]['Purchase Price'].count()\n",
    "print('The number of people having American Express as their CC Provider and made a purchase above $95 is', american_express)\n",
    "\n",
    "# How many people have a credit card that expires in 2025?\n",
    "expiry_2025 = df[df['CC Exp Date'] == 2025]['CC Exp Date'].count()\n",
    "print('There are', expiry_2025, 'people having CC expiry date in 2025')\n",
    "\n",
    "#What are the top 5 most popular email providers/hosts (e.g. gmail.com, yahoo.com, etc...)\n",
    "top_email_providers = df['Email'].str.split('@', n=1, expand=True).value_counts(1).head(5).keys().values[:]\n",
    "print(\"The 5 most popular email provders in the data:\", top_email_providers)"
   ]
  },
  {
   "cell_type": "markdown",
   "metadata": {},
   "source": [
    "# Exercise 4: Handling missing values"
   ]
  },
  {
   "cell_type": "code",
   "execution_count": 6,
   "metadata": {},
   "outputs": [
    {
     "data": {
      "text/html": [
       "<div>\n",
       "<style scoped>\n",
       "    .dataframe tbody tr th:only-of-type {\n",
       "        vertical-align: middle;\n",
       "    }\n",
       "\n",
       "    .dataframe tbody tr th {\n",
       "        vertical-align: top;\n",
       "    }\n",
       "\n",
       "    .dataframe thead th {\n",
       "        text-align: right;\n",
       "    }\n",
       "</style>\n",
       "<table border=\"1\" class=\"dataframe\">\n",
       "  <thead>\n",
       "    <tr style=\"text-align: right;\">\n",
       "      <th></th>\n",
       "      <th>Unnamed: 0</th>\n",
       "      <th>sepal_length</th>\n",
       "      <th>sepal_width</th>\n",
       "      <th>petal_length</th>\n",
       "      <th>petal_width</th>\n",
       "    </tr>\n",
       "  </thead>\n",
       "  <tbody>\n",
       "    <tr>\n",
       "      <th>0</th>\n",
       "      <td>0</td>\n",
       "      <td>5.1</td>\n",
       "      <td>3.5</td>\n",
       "      <td>1.4</td>\n",
       "      <td>0.2</td>\n",
       "    </tr>\n",
       "    <tr>\n",
       "      <th>1</th>\n",
       "      <td>1</td>\n",
       "      <td>4.9</td>\n",
       "      <td>3.0</td>\n",
       "      <td>1.4</td>\n",
       "      <td>0.2</td>\n",
       "    </tr>\n",
       "    <tr>\n",
       "      <th>2</th>\n",
       "      <td>2</td>\n",
       "      <td>4.7</td>\n",
       "      <td>3.2</td>\n",
       "      <td>1.3</td>\n",
       "      <td>0.2</td>\n",
       "    </tr>\n",
       "    <tr>\n",
       "      <th>3</th>\n",
       "      <td>3</td>\n",
       "      <td>4.6</td>\n",
       "      <td>3.1</td>\n",
       "      <td>1.5</td>\n",
       "      <td>0.2</td>\n",
       "    </tr>\n",
       "    <tr>\n",
       "      <th>4</th>\n",
       "      <td>4</td>\n",
       "      <td>5.0</td>\n",
       "      <td>-3.6</td>\n",
       "      <td>-1.4</td>\n",
       "      <td>0.2</td>\n",
       "    </tr>\n",
       "  </tbody>\n",
       "</table>\n",
       "</div>"
      ],
      "text/plain": [
       "   Unnamed: 0  sepal_length  sepal_width  petal_length  petal_width\n",
       "0           0           5.1          3.5           1.4          0.2\n",
       "1           1           4.9          3.0           1.4          0.2\n",
       "2           2           4.7          3.2           1.3          0.2\n",
       "3           3           4.6          3.1           1.5          0.2\n",
       "4           4           5.0         -3.6          -1.4          0.2"
      ]
     },
     "execution_count": 6,
     "metadata": {},
     "output_type": "execute_result"
    }
   ],
   "source": [
    "import pandas as pd\n",
    "\n",
    "df = pd.read_csv('iris.csv')\n",
    "df.drop(columns=' flower', inplace=True)\n",
    "df.isnull().any()\n",
    "\n",
    "# Fill the missing values with a different \"strategy\" for each column:\n",
    "def numeric(df): # All dtypes, besides 1, are objects; thus, we need to change the data types to numeric in order to conduct calculations in the future\n",
    "    for col in df:\n",
    "        df[col] = pd.to_numeric(df[col], errors='coerce')\n",
    "    return df\n",
    "df = numeric(df)\n",
    "\n",
    "# sepal_length -> mean\n",
    "df['sepal_length'].fillna(df['sepal_length'].mean(), inplace=True)\n",
    "\n",
    "# sepal_width -> median\n",
    "median = df['sepal_width'].median()\n",
    "df['sepal_width'].fillna(df['sepal_width'].mean(), inplace=True)\n",
    "\n",
    "# petal_length, petal_width -> 0\n",
    "for col in df:\n",
    "    if col == 'petal_length':\n",
    "        df[col].fillna(0, inplace=True)\n",
    "    elif col == 'petal_width':\n",
    "        df[col].fillna(0, inplace=True)\n",
    "\n",
    "df.isnull().any()\n",
    "df.head()"
   ]
  },
  {
   "cell_type": "code",
   "execution_count": 7,
   "metadata": {},
   "outputs": [
    {
     "data": {
      "text/html": [
       "<div>\n",
       "<style scoped>\n",
       "    .dataframe tbody tr th:only-of-type {\n",
       "        vertical-align: middle;\n",
       "    }\n",
       "\n",
       "    .dataframe tbody tr th {\n",
       "        vertical-align: top;\n",
       "    }\n",
       "\n",
       "    .dataframe thead th {\n",
       "        text-align: right;\n",
       "    }\n",
       "</style>\n",
       "<table border=\"1\" class=\"dataframe\">\n",
       "  <thead>\n",
       "    <tr style=\"text-align: right;\">\n",
       "      <th></th>\n",
       "      <th>Unnamed: 0</th>\n",
       "      <th>sepal_length</th>\n",
       "      <th>sepal_width</th>\n",
       "      <th>petal_length</th>\n",
       "      <th>petal_width</th>\n",
       "    </tr>\n",
       "  </thead>\n",
       "  <tbody>\n",
       "    <tr>\n",
       "      <th>0</th>\n",
       "      <td>0</td>\n",
       "      <td>5.1</td>\n",
       "      <td>3.5</td>\n",
       "      <td>1.4</td>\n",
       "      <td>0.2</td>\n",
       "    </tr>\n",
       "    <tr>\n",
       "      <th>1</th>\n",
       "      <td>1</td>\n",
       "      <td>4.9</td>\n",
       "      <td>3.0</td>\n",
       "      <td>1.4</td>\n",
       "      <td>0.2</td>\n",
       "    </tr>\n",
       "    <tr>\n",
       "      <th>2</th>\n",
       "      <td>2</td>\n",
       "      <td>4.7</td>\n",
       "      <td>3.2</td>\n",
       "      <td>1.3</td>\n",
       "      <td>0.2</td>\n",
       "    </tr>\n",
       "    <tr>\n",
       "      <th>3</th>\n",
       "      <td>3</td>\n",
       "      <td>4.6</td>\n",
       "      <td>3.1</td>\n",
       "      <td>1.5</td>\n",
       "      <td>0.2</td>\n",
       "    </tr>\n",
       "    <tr>\n",
       "      <th>4</th>\n",
       "      <td>4</td>\n",
       "      <td>5.0</td>\n",
       "      <td>-3.6</td>\n",
       "      <td>-1.4</td>\n",
       "      <td>0.2</td>\n",
       "    </tr>\n",
       "  </tbody>\n",
       "</table>\n",
       "</div>"
      ],
      "text/plain": [
       "   Unnamed: 0  sepal_length  sepal_width  petal_length  petal_width\n",
       "0           0           5.1          3.5           1.4          0.2\n",
       "1           1           4.9          3.0           1.4          0.2\n",
       "2           2           4.7          3.2           1.3          0.2\n",
       "3           3           4.6          3.1           1.5          0.2\n",
       "4           4           5.0         -3.6          -1.4          0.2"
      ]
     },
     "execution_count": 7,
     "metadata": {},
     "output_type": "execute_result"
    }
   ],
   "source": [
    "import pandas as pd\n",
    "\n",
    "df = pd.read_csv('iris.csv')\n",
    "df.drop(columns=' flower', inplace=True)\n",
    "df.isnull().any()\n",
    "\n",
    "def numeric(df): \n",
    "    for col in df:\n",
    "        df[col] = pd.to_numeric(df[col], errors='coerce')\n",
    "    return df\n",
    "df = numeric(df)\n",
    "\n",
    "# Fill the missing values using the median of the associated column using fillna.\n",
    "\n",
    "for col in df:\n",
    "    df[col].fillna(df[col].median(), inplace=True)\n",
    "\n",
    "\n",
    "df.isnull().any()\n",
    "df.head()"
   ]
  }
 ],
 "metadata": {
  "kernelspec": {
   "display_name": "Python 3.8.10 ('ex00': venv)",
   "language": "python",
   "name": "python3"
  },
  "language_info": {
   "codemirror_mode": {
    "name": "ipython",
    "version": 3
   },
   "file_extension": ".py",
   "mimetype": "text/x-python",
   "name": "python",
   "nbconvert_exporter": "python",
   "pygments_lexer": "ipython3",
   "version": "3.8.10"
  },
  "orig_nbformat": 4,
  "vscode": {
   "interpreter": {
    "hash": "c7e92b961fea6087c5b1baed64a4ccb75cd38146d27efdd284bc290fcbae2f05"
   }
  }
 },
 "nbformat": 4,
 "nbformat_minor": 2
}
